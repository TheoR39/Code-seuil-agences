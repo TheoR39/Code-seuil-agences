{
 "cells": [
  {
   "cell_type": "markdown",
   "id": "73f4d864-c4f0-478b-a991-f3c0d78b0dec",
   "metadata": {},
   "source": [
    "# Clustering des agences :"
   ]
  },
  {
   "cell_type": "markdown",
   "id": "3a313047-c932-4a6a-91d1-d3859bdd3174",
   "metadata": {},
   "source": [
    "On doit commencer par trouver des paramètres pertinents qui permettront de créer des catégories d'agences par apprentissage non supervisé (algorithmes de clustering). On va devoir envisager plusieurs types de clusters (suivant les différents types de techniques, comme k-means, DBSCAN, hierarchical clustering...).\n",
    "- 1ère étape : Feature Engineering\n",
    "- 2ème étape : Construction des clusters\n",
    "- 3ème étape : Comparaison\n",
    "\n",
    "En particulier, ceci permettra de générer deux seuils par cluster, ce qui simplifie (considérablement) le problème, mais également d'accéder à plus de données. Ceci peut être particulièrement utile pour résoudre le problème d'optimisation, en s'intéressant au cluster entier et pas à chacune des agences individuellement. Notamment, on pourra plus facilement envisager d'utiliser des méthodes de bootstrap à partir des données réelles pour générer les échantillons nécessaires à l'application de la méthode SAA.\n",
    "\n",
    "* Autre possibilité : Développer un modèle de séries temporelles pour chaque cluster, en espérant qu'il arrive à capter les différentes tendances..."
   ]
  },
  {
   "cell_type": "markdown",
   "id": "52223726-9746-474f-b2fa-e4e860feef18",
   "metadata": {},
   "source": [
    "1er problème : Trouver des caractéristiques (features) pertinentes pour permettre aux algos de clustering d'établir une classification précise.\n",
    "Dans un premier temps, au vu de l'exploration préalable des données, on conserve les paramètres suivants:\n",
    "   - flux nets (versements - retraits) de l'agence : plus facilement manipulable que retraits et versements séparés.\n",
    "   - fréquence des outliers de retraits : permet aussi d'estimer la proba qu'un outlier de retrait se présente\n",
    "   - Ecart-type (variabilité) des versements et des retraits : on a vu qu'elle pouvait varier suivant les agences et qu'elle pouvait ou pas contrebalancer les montants\n",
    "   - Nombre moyen de retraits / versements journaliers\n",
    "   - Moyenne (ou médiane) des retraits / versements journaliers\n",
    "   - Ecart-type (variabilité) du montant des retraits / versements journaliers\n",
    "   - Nombre de ruptures : nombre de jours où l'agence tombe en rupture sur une année par exemple."
   ]
  },
  {
   "cell_type": "code",
   "execution_count": null,
   "id": "e14f7ece-4c58-4c31-9f8e-85ca2ef60a7e",
   "metadata": {},
   "outputs": [],
   "source": [
    "import numpy as np\n",
    "import pandas as pd\n",
    "import matplotlib.pyplot as plt\n",
    "import seaborn as sns\n",
    "from scipy.cluster.hierarchy import linkage, dendrogram\n",
    "from sklearn import KMeans\n",
    "from sklearn.cluster import DBSCAN"
   ]
  },
  {
   "cell_type": "code",
   "execution_count": null,
   "id": "3e671662-6e8b-4fac-9e1d-0687156b8009",
   "metadata": {},
   "outputs": [],
   "source": [
    "class Clustering_agences:\n",
    "\n",
    "    # Dans un premier temps, on a besoin de créer un nouveau DataFrame avec les features retenue\n",
    "    def __init__(self, class_data):\n",
    "        self.class = class_data\n",
    "        "
   ]
  }
 ],
 "metadata": {
  "kernelspec": {
   "display_name": "Python 3 (ipykernel)",
   "language": "python",
   "name": "python3"
  },
  "language_info": {
   "codemirror_mode": {
    "name": "ipython",
    "version": 3
   },
   "file_extension": ".py",
   "mimetype": "text/x-python",
   "name": "python",
   "nbconvert_exporter": "python",
   "pygments_lexer": "ipython3",
   "version": "3.9.21"
  }
 },
 "nbformat": 4,
 "nbformat_minor": 5
}
